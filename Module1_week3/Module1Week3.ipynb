{
  "nbformat": 4,
  "nbformat_minor": 0,
  "metadata": {
    "colab": {
      "provenance": []
    },
    "kernelspec": {
      "name": "python3",
      "display_name": "Python 3"
    },
    "language_info": {
      "name": "python"
    }
  },
  "cells": [
    {
      "cell_type": "code",
      "execution_count": 3,
      "metadata": {
        "colab": {
          "base_uri": "https://localhost:8080/"
        },
        "id": "E6ruiSwoYIwG",
        "outputId": "b4faf46a-83a5-44d9-82b1-b20609c6e5b3"
      },
      "outputs": [
        {
          "output_type": "execute_result",
          "data": {
            "text/plain": [
              "tensor([0.0900, 0.2447, 0.6652])"
            ]
          },
          "metadata": {},
          "execution_count": 3
        }
      ],
      "source": [
        "import torch\n",
        "import torch.nn as nn\n",
        "\n",
        "data = torch.Tensor([1, 2, 3])\n",
        "softmax_function = nn.Softmax(dim=0)\n",
        "output = softmax_function(data)\n",
        "# assert round(output[0].item(), 2) == 0.09\n",
        "output"
      ]
    },
    {
      "cell_type": "code",
      "source": [
        "import torch\n",
        "import torch.nn as nn\n",
        "\n",
        "class MySoftmax(nn.Module):\n",
        "    def __init__(self):\n",
        "        super().__init__()\n",
        "\n",
        "    def forward(self, x):\n",
        "        return torch.softmax(x, dim=0)\n",
        "\n",
        "data = torch.Tensor([5, 2, 4])\n",
        "my_softmax = MySoftmax()\n",
        "output = my_softmax(data)\n",
        "# assert round(output[-1].item(), 2) == 0.26\n",
        "output\n"
      ],
      "metadata": {
        "colab": {
          "base_uri": "https://localhost:8080/"
        },
        "id": "UDT4lo8JYQHE",
        "outputId": "e83db9fd-c00a-44bc-ea7d-fb56da8a635b"
      },
      "execution_count": 4,
      "outputs": [
        {
          "output_type": "execute_result",
          "data": {
            "text/plain": [
              "tensor([0.7054, 0.0351, 0.2595])"
            ]
          },
          "metadata": {},
          "execution_count": 4
        }
      ]
    },
    {
      "cell_type": "code",
      "source": [
        "import torch\n",
        "import torch.nn as nn\n",
        "\n",
        "class MySoftmax(nn.Module):\n",
        "    def __init__(self):\n",
        "        super().__init__()\n",
        "\n",
        "    def forward(self, x):\n",
        "        return torch.softmax(x, dim=0)\n",
        "\n",
        "data = torch.Tensor([1, 2, 300000000])\n",
        "my_softmax = MySoftmax()\n",
        "output = my_softmax(data)\n",
        "# assert round(output[0].item(), 2) == 0.0\n",
        "output\n"
      ],
      "metadata": {
        "colab": {
          "base_uri": "https://localhost:8080/"
        },
        "id": "8GFHEHTzYxX0",
        "outputId": "1366a771-9ef8-48a4-c0ba-0633eb25876f"
      },
      "execution_count": 6,
      "outputs": [
        {
          "output_type": "execute_result",
          "data": {
            "text/plain": [
              "tensor([0., 0., 1.])"
            ]
          },
          "metadata": {},
          "execution_count": 6
        }
      ]
    },
    {
      "cell_type": "code",
      "source": [
        "import torch\n",
        "import torch.nn as nn\n",
        "\n",
        "class SoftmaxStable(nn.Module):\n",
        "    def __init__(self):\n",
        "        super().__init__()\n",
        "\n",
        "    def forward(self, x):\n",
        "        x_max = torch.max(x, dim=0, keepdim=True)\n",
        "        x_exp = torch.exp(x - x_max.values)\n",
        "        partition = x_exp.sum(0, keepdim=True)\n",
        "        return x_exp / partition\n",
        "\n",
        "data = torch.Tensor([1, 2, 3])\n",
        "softmax_stable = SoftmaxStable()\n",
        "output = softmax_stable(data)\n",
        "# assert round(output[-1].item(), 2) == 0.67\n",
        "output"
      ],
      "metadata": {
        "colab": {
          "base_uri": "https://localhost:8080/"
        },
        "id": "P7L48xWvaBw6",
        "outputId": "ecf1741e-47d4-4f7e-ebce-4562135315e4"
      },
      "execution_count": 7,
      "outputs": [
        {
          "output_type": "execute_result",
          "data": {
            "text/plain": [
              "tensor([0.0900, 0.2447, 0.6652])"
            ]
          },
          "metadata": {},
          "execution_count": 7
        }
      ]
    },
    {
      "cell_type": "code",
      "source": [
        "from abc import ABC, abstractmethod\n",
        "\n",
        "class Person(ABC):\n",
        "    def __init__(self, name:str, yob:int):\n",
        "        self._name = name\n",
        "        self._yob = yob\n",
        "\n",
        "    def get_yob(self):\n",
        "        return self._yob\n",
        "\n",
        "    @abstractmethod\n",
        "    def describe(self):\n",
        "        pass\n",
        "\n",
        "class Student(Person):\n",
        "    def __init__(self, name:str, yob:int, grade:int):\n",
        "        super().__init__(name, yob)\n",
        "        self._grade = grade\n",
        "\n",
        "    def describe(self):\n",
        "        print(f\"Student - Name: {self._name}, yob: {self._yob}, grade: {self._grade}\")\n",
        "\n",
        "student1 = Student(name=\"studentZ2023\", yob=2011, grade=6)\n",
        "assert student1._yob == 2011\n",
        "student1.describe()"
      ],
      "metadata": {
        "colab": {
          "base_uri": "https://localhost:8080/"
        },
        "id": "wRsKQwv-bfc3",
        "outputId": "9d1cf430-8f3e-4122-a169-5a940a7f81cb"
      },
      "execution_count": 21,
      "outputs": [
        {
          "output_type": "stream",
          "name": "stdout",
          "text": [
            "Student - Name: studentZ2023, yob: 2011, grade: 6\n"
          ]
        }
      ]
    },
    {
      "cell_type": "code",
      "source": [
        "from abc import ABC, abstractmethod\n",
        "\n",
        "class Person(ABC):\n",
        "    def __init__(self, name:str, yob:int):\n",
        "        self._name = name\n",
        "        self._yob = yob\n",
        "\n",
        "    def get_yob(self):\n",
        "        return self._yob\n",
        "\n",
        "    @abstractmethod\n",
        "    def describe(self):\n",
        "        pass\n",
        "\n",
        "class Teacher(Person):\n",
        "    def __init__(self, name:str, yob:int, subject:str):\n",
        "        super().__init__(name, yob)\n",
        "        self._subject = subject\n",
        "\n",
        "    def describe(self):\n",
        "        print(f\"Teacher - Name: {self._name}, yob: {self._yob}, subject: {self._subject}\")\n",
        "\n",
        "teacher1 = Teacher(name=\"teacherZ2023\", yob=1991, subject=\"History\")\n",
        "assert teacher1._yob == 1991\n",
        "teacher1.describe()"
      ],
      "metadata": {
        "colab": {
          "base_uri": "https://localhost:8080/"
        },
        "id": "b6D3Ln4dc4sp",
        "outputId": "364d193c-d5b5-4f93-a702-f61136bd586e"
      },
      "execution_count": 20,
      "outputs": [
        {
          "output_type": "stream",
          "name": "stdout",
          "text": [
            "Teacher - Name: teacherZ2023, yob: 1991, subject: History\n"
          ]
        }
      ]
    },
    {
      "cell_type": "code",
      "source": [
        "from abc import ABC, abstractmethod\n",
        "\n",
        "class Person(ABC):\n",
        "    def __init__(self, name:str, yob:int):\n",
        "        self._name = name\n",
        "        self._yob = yob\n",
        "\n",
        "    def get_yob(self):\n",
        "        return self._yob\n",
        "\n",
        "    @abstractmethod\n",
        "    def describe(self):\n",
        "        pass\n",
        "\n",
        "class Doctor(Person):\n",
        "    def __init__(self, name:str, yob:int, speciality:str):\n",
        "        super().__init__(name, yob)\n",
        "        self._speciality = speciality\n",
        "\n",
        "    def describe(self):\n",
        "        print(f\"Doctor - Name: {self._name}, yob: {self._yob}, speciality: {self._speciality}\")\n",
        "\n",
        "doctor1 = Doctor(name=\"doctorZ2023\", yob=1981, speciality=\"Neurology\")\n",
        "# assert doctor1._yob == 1981\n",
        "doctor1.describe()"
      ],
      "metadata": {
        "colab": {
          "base_uri": "https://localhost:8080/"
        },
        "id": "YBaOHZ3BenHH",
        "outputId": "31d32bab-36b9-4dda-e0db-428b5ba9c8fd"
      },
      "execution_count": 18,
      "outputs": [
        {
          "output_type": "stream",
          "name": "stdout",
          "text": [
            "Doctor - Name: doctorZ2023, yob: 1981, speciality: Neurology\n"
          ]
        }
      ]
    },
    {
      "cell_type": "code",
      "source": [
        "class Ward:\n",
        "    def __init__(self, name:str):\n",
        "        self.__name = name\n",
        "        self.__listPeople = list()\n",
        "\n",
        "    def add_person(self, person: Person):\n",
        "        self.__listPeople.append(person)\n",
        "\n",
        "    def describe(self):\n",
        "        print(f\"Ward Name: {self.__name}\")\n",
        "        for p in self.__listPeople:\n",
        "            p.describe()\n",
        "\n",
        "    def count_doctor(self):\n",
        "        count = 0\n",
        "        for p in self.__listPeople:\n",
        "            if isinstance(p, Doctor):\n",
        "                count += 1\n",
        "        return count\n",
        "\n",
        "student1 = Student(name=\"studentA\", yob=2010, grade=7)\n",
        "teacher1 = Teacher(name=\"teacherA\", yob=1969, subject=\"Math\")\n",
        "teacher2 = Teacher(name=\"teacherB\", yob=1995, subject=\"History\")\n",
        "doctor1 = Doctor(name=\"doctorA\", yob=1945, speciality=\"Endocrinologists\")\n",
        "doctor2 = Doctor(name=\"doctorB\", yob=1975, speciality=\"Cardiologists\")\n",
        "ward1 = Ward(name=\"ward1\")\n",
        "ward1.add_person(student1)\n",
        "ward1.add_person(teacher1)\n",
        "ward1.add_person(teacher2)\n",
        "ward1.add_person(doctor1)\n",
        "ward1.add_person(doctor2)\n",
        "ward1.count_doctor()\n"
      ],
      "metadata": {
        "colab": {
          "base_uri": "https://localhost:8080/"
        },
        "id": "KgU005nohDLy",
        "outputId": "378913de-15f8-46b9-a9e1-319f1409b6b1"
      },
      "execution_count": 25,
      "outputs": [
        {
          "output_type": "execute_result",
          "data": {
            "text/plain": [
              "2"
            ]
          },
          "metadata": {},
          "execution_count": 25
        }
      ]
    },
    {
      "cell_type": "code",
      "source": [
        "class MyStack:\n",
        "    def __init__(self, capacity):\n",
        "        self.__capacity = capacity\n",
        "        self.__stack = []\n",
        "\n",
        "    def is_full(self):\n",
        "        return len(self.__stack) == self.__capacity\n",
        "\n",
        "    def push(self, value):\n",
        "        if self.is_full():\n",
        "            raise Exception(\"Stack is full\")\n",
        "        self.__stack.append(value)\n",
        "\n",
        "stack1 = MyStack(capacity=5)\n",
        "stack1.push(1)\n",
        "assert stack1.is_full() == False\n",
        "stack1.push(2)\n",
        "print(stack1.is_full())"
      ],
      "metadata": {
        "colab": {
          "base_uri": "https://localhost:8080/"
        },
        "id": "Dnj2ecTbjbA4",
        "outputId": "49521641-c4b3-4f9a-e91a-c59035b01af0"
      },
      "execution_count": 26,
      "outputs": [
        {
          "output_type": "stream",
          "name": "stdout",
          "text": [
            "False\n"
          ]
        }
      ]
    },
    {
      "cell_type": "code",
      "source": [
        "class MyStack:\n",
        "    def __init__(self, capacity):\n",
        "        self.__capacity = capacity\n",
        "        self.__stack = []\n",
        "\n",
        "    def is_full(self):\n",
        "        return len(self.__stack) == self.__capacity\n",
        "\n",
        "    def push(self, value):\n",
        "        if self.is_full():\n",
        "            raise Exception(\"Stack is full\")\n",
        "        self.__stack.append(value)\n",
        "\n",
        "    def top(self):\n",
        "        if self.is_full():\n",
        "            raise Exception(\"Stack is full\")\n",
        "        return self.__stack[-1]\n",
        "\n",
        "stack1 = MyStack(capacity=5)\n",
        "stack1.push(1)\n",
        "assert stack1.is_full() == False\n",
        "stack1.push(2)\n",
        "print(stack1.top())"
      ],
      "metadata": {
        "colab": {
          "base_uri": "https://localhost:8080/"
        },
        "id": "rolhtSt8kvzF",
        "outputId": "86e0d927-a41a-4f64-bccc-9c70b3f4ea07"
      },
      "execution_count": 27,
      "outputs": [
        {
          "output_type": "stream",
          "name": "stdout",
          "text": [
            "2\n"
          ]
        }
      ]
    },
    {
      "cell_type": "code",
      "source": [
        "class MyQueue:\n",
        "    def __init__(self, capacity):\n",
        "        self.__capacity = capacity\n",
        "        self.__queue = []\n",
        "\n",
        "    def is_full(self):\n",
        "        return len(self.__queue) == self.__capacity\n",
        "\n",
        "    def enqueue(self, value):\n",
        "        if self.is_full():\n",
        "            raise Exception(\"Queue is full\")\n",
        "        self.__queue.append(value)\n",
        "\n",
        "queue1 = MyQueue(capacity=5)\n",
        "queue1.enqueue(1)\n",
        "assert queue1.is_full() == False\n",
        "queue1.enqueue(2)\n",
        "print(queue1.is_full())"
      ],
      "metadata": {
        "colab": {
          "base_uri": "https://localhost:8080/"
        },
        "id": "h4G3ur8NlMPm",
        "outputId": "f47c8046-533d-42e1-af49-bb78aeb68adb"
      },
      "execution_count": 28,
      "outputs": [
        {
          "output_type": "stream",
          "name": "stdout",
          "text": [
            "False\n"
          ]
        }
      ]
    },
    {
      "cell_type": "code",
      "source": [
        "class MyQueue:\n",
        "    def __init__(self, capacity):\n",
        "        self.__capacity = capacity\n",
        "        self.__queue = []\n",
        "\n",
        "    def is_empty(self):\n",
        "        return len(self.__queue) == 0\n",
        "\n",
        "    def is_full(self):\n",
        "        return len(self.__queue) == self.__capacity\n",
        "\n",
        "    def dequeue(self):\n",
        "        if self.is_empty():\n",
        "            raise Exception(\"Queue is empty\")\n",
        "        return self.__queue.pop(0)\n",
        "\n",
        "    def enqueue(self, value):\n",
        "        if self.is_full():\n",
        "            raise Exception(\"Queue is full\")\n",
        "        self.__queue.append(value)\n",
        "\n",
        "    def front(self):\n",
        "        if self.is_empty():\n",
        "            raise Exception(\"Queue is empty\")\n",
        "        return self.__queue[0]\n",
        "\n",
        "queue1 = MyQueue(capacity=5)\n",
        "queue1.enqueue(1)\n",
        "assert queue1.is_full() == False\n",
        "queue1.enqueue(2)\n",
        "print(queue1.front())"
      ],
      "metadata": {
        "colab": {
          "base_uri": "https://localhost:8080/"
        },
        "id": "3dVYNe7mlkdF",
        "outputId": "5a8cf609-34ba-40a9-a354-d2a1a5efc83f"
      },
      "execution_count": 29,
      "outputs": [
        {
          "output_type": "stream",
          "name": "stdout",
          "text": [
            "1\n"
          ]
        }
      ]
    },
    {
      "cell_type": "code",
      "source": [],
      "metadata": {
        "id": "oJYX8wUHmIT1"
      },
      "execution_count": null,
      "outputs": []
    }
  ]
}
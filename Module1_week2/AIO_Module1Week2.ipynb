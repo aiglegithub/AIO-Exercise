{
  "nbformat": 4,
  "nbformat_minor": 0,
  "metadata": {
    "colab": {
      "provenance": []
    },
    "kernelspec": {
      "name": "python3",
      "display_name": "Python 3"
    },
    "language_info": {
      "name": "python"
    }
  },
  "cells": [
    {
      "cell_type": "code",
      "execution_count": 1,
      "metadata": {
        "colab": {
          "base_uri": "https://localhost:8080/"
        },
        "id": "99HLgN8YyyD4",
        "outputId": "71b23ca2-18d0-4d34-9778-af99bc002361"
      },
      "outputs": [
        {
          "output_type": "stream",
          "name": "stdout",
          "text": [
            "[5, 5, 5, 5, 10, 12, 33, 33]\n"
          ]
        }
      ],
      "source": [
        "# Find the max value in a kernel with k elements\n",
        "def max_kernel(num_list, k):\n",
        "    result = []\n",
        "    for i in range(len(num_list) - k + 1):\n",
        "        result.append(max(num_list[i:i+k]))\n",
        "    return result\n",
        "\n",
        "assert max_kernel([3, 4, 5, 1, -44], 3) == [5, 5, 5]\n",
        "num_list = [3, 4, 5, 1, -44, 5, 10, 12, 33, 1]\n",
        "k = 3\n",
        "print(max_kernel(num_list, k))\n"
      ]
    },
    {
      "cell_type": "code",
      "source": [
        "# Count the character in a word\n",
        "def character_count(word):\n",
        "    character_statistic = {}\n",
        "\n",
        "    for character in word:\n",
        "        if character in character_statistic:\n",
        "            character_statistic[character] += 1\n",
        "        else:\n",
        "            character_statistic[character] = 1\n",
        "\n",
        "    return character_statistic\n",
        "\n",
        "assert character_count(\"Baby\") == {\"B\":1, \"a\":1, \"b\":1, \"y\":1}\n",
        "print(character_count('smiles'))"
      ],
      "metadata": {
        "colab": {
          "base_uri": "https://localhost:8080/"
        },
        "id": "KXXeyQ6j3XTN",
        "outputId": "621a8337-50ac-41bc-c0e3-34444ebeb42a"
      },
      "execution_count": 2,
      "outputs": [
        {
          "output_type": "stream",
          "name": "stdout",
          "text": [
            "{'s': 2, 'm': 1, 'i': 1, 'l': 1, 'e': 1}\n"
          ]
        }
      ]
    },
    {
      "cell_type": "code",
      "source": [],
      "metadata": {
        "id": "s1D7Kpgk-g9Z"
      },
      "execution_count": null,
      "outputs": []
    },
    {
      "cell_type": "code",
      "source": [
        "# Download the file\n",
        "# !gdown https://drive.google.com/uc?id=1IBScGdW2xlNsc9v5zSAya548kNgiOrko\n",
        "\n",
        "# Count the words in a file and return a dictionary\n",
        "def word_count(filename):\n",
        "    counter = {}\n",
        "    with open(filename, 'r') as file:\n",
        "        for line in file:\n",
        "            for word in line.lower().split():\n",
        "                if word in counter:\n",
        "                    counter[word] += 1\n",
        "                else:\n",
        "                    counter[word] = 1\n",
        "    return counter\n",
        "\n",
        "\n",
        "file_path = '/content/P1_data.txt'\n",
        "result = word_count(file_path)\n",
        "assert result['who'] == 3\n",
        "print(result)\n",
        "print(result['man'])\n",
        "\n"
      ],
      "metadata": {
        "colab": {
          "base_uri": "https://localhost:8080/"
        },
        "id": "PSzIYCYK6vI0",
        "outputId": "d2561e0b-1bc7-432a-a9af-64f0976eefaf"
      },
      "execution_count": 20,
      "outputs": [
        {
          "output_type": "stream",
          "name": "stdout",
          "text": [
            "{'he': 1, 'who': 3, 'conquers': 1, 'himself': 1, 'is': 3, 'the': 5, 'mightiest': 1, 'warrior': 1, 'try': 2, 'not': 1, 'to': 3, 'become': 2, 'a': 7, 'man': 6, 'of': 4, 'success': 3, 'but': 1, 'rather': 1, 'value': 1, 'one': 4, 'with': 4, 'courage': 1, 'makes': 1, 'majority': 1, 'secret': 1, 'in': 4, 'life': 2, 'for': 3, 'be': 1, 'ready': 1, 'his': 2, 'opportunity': 1, 'when': 2, 'it': 2, 'comes': 2, 'successful': 2, 'will': 2, 'profit': 1, 'from': 1, 'mistakes': 1, 'and': 1, 'again': 1, 'different': 1, 'way': 1, 'can': 3, 'lay': 1, 'firm': 1, 'foundation': 1, 'bricks': 1, 'others': 1, 'have': 1, 'thrown': 1, 'at': 1, 'him': 1, 'usually': 1, 'those': 1, 'are': 1, 'too': 1, 'busy': 1, 'looking': 1, 'we': 3, 'cannot': 1, 'solve': 1, 'problems': 1, 'kind': 1, 'thinking': 1, 'employed': 1, 'came': 1, 'up': 1, 'them': 1, 'just': 2, 'small': 1, 'positive': 1, 'thought': 1, 'morning': 1, 'change': 1, 'your': 1, 'whole': 1, 'day': 1, 'you': 3, 'get': 2, 'everything': 1, 'want': 2, 'if': 1, 'help': 1, 'enough': 1, 'other': 1, 'people': 1, 'what': 1, 'they': 1}\n",
            "6\n"
          ]
        }
      ]
    },
    {
      "cell_type": "code",
      "source": [
        "def levenshtein_distance(token1, token2):\n",
        "    m = len(token1)\n",
        "    n = len(token2)\n",
        "\n",
        "    # Initialize a matrix to store the edit distances\n",
        "    distance = [[0 for _ in range(n + 1)] for _ in range(m + 1)]\n",
        "\n",
        "    # Initialize the first row and column with values from 0 to m and 0 to n respectively\n",
        "    for i in range(m + 1):\n",
        "        distance[i][0] = i\n",
        "    for j in range(n + 1):\n",
        "        distance[0][j] = j\n",
        "\n",
        "    # Fill the matrix using dynamic programming to compute edit distances\n",
        "    for i in range(1, m + 1):\n",
        "        for j in range(1, n + 1):\n",
        "            if token1[i - 1] == token2[j - 1]:\n",
        "                # Characters match, no operation needed\n",
        "                distance[i][j] = distance[i - 1][j - 1]\n",
        "            else:\n",
        "                # Characters don't match, choose minimum cost among insertion, deletion, or substitution\n",
        "                distance[i][j] = 1 + min(distance[i][j - 1], distance[i - 1][j], distance[i - 1][j - 1])\n",
        "\n",
        "    # Return the edit distance between the tokenings\n",
        "    return distance[m][n]\n",
        "\n",
        "assert levenshtein_distance('hi', 'hello') == 4.0\n",
        "print(levenshtein_distance('hola', 'hello'))"
      ],
      "metadata": {
        "colab": {
          "base_uri": "https://localhost:8080/"
        },
        "id": "klIfRzKpELs3",
        "outputId": "9867cc62-8628-4ce8-9985-0520bb44374e"
      },
      "execution_count": 26,
      "outputs": [
        {
          "output_type": "stream",
          "name": "stdout",
          "text": [
            "3\n"
          ]
        }
      ]
    },
    {
      "cell_type": "code",
      "source": [
        "def check_the_number(N):\n",
        "    list_of_numbers = []\n",
        "    results = \"\"\n",
        "    for i in range(1, 5):\n",
        "        list_of_numbers.append(i)\n",
        "    if N in list_of_numbers:\n",
        "        results = \"True\"\n",
        "    if N not in list_of_numbers:\n",
        "        results = \"False\"\n",
        "    return results\n",
        "\n",
        "N = 7\n",
        "assert check_the_number(N) == \"False\"\n",
        "N = 2\n",
        "results = check_the_number(N)\n",
        "print(results)"
      ],
      "metadata": {
        "colab": {
          "base_uri": "https://localhost:8080/"
        },
        "id": "NVEHnArHIHIE",
        "outputId": "d85e9ac4-9861-4dbb-9d89-7921120a5a11"
      },
      "execution_count": 55,
      "outputs": [
        {
          "output_type": "stream",
          "name": "stdout",
          "text": [
            "True\n"
          ]
        }
      ]
    },
    {
      "cell_type": "code",
      "source": [
        "def my_function(data, max, min):\n",
        "    result = []\n",
        "    for i in data:\n",
        "        if i < min:\n",
        "            result.append(min)\n",
        "        elif i > max:\n",
        "            result.append(max)\n",
        "        else:\n",
        "            result.append(i)\n",
        "    return result\n",
        "\n",
        "my_list = [5, 2, 5, 0, 1]\n",
        "max = 1\n",
        "min = 0\n",
        "assert my_function(max = max, min = min, data = my_list) == [1, 1, 1, 0, 1]\n",
        "my_list = [10, 2, 5, 0, 1]\n",
        "max = 2\n",
        "min = 1\n",
        "print(my_function(max = max, min = min, data = my_list))\n"
      ],
      "metadata": {
        "colab": {
          "base_uri": "https://localhost:8080/"
        },
        "id": "g91ViyIbLv91",
        "outputId": "1ffd8bde-7ccb-44a0-f077-3bb653d7f2c6"
      },
      "execution_count": 58,
      "outputs": [
        {
          "output_type": "stream",
          "name": "stdout",
          "text": [
            "[2, 2, 2, 1, 1]\n"
          ]
        }
      ]
    },
    {
      "cell_type": "code",
      "source": [
        "def my_function(x, y):\n",
        "    x.extend(y)\n",
        "    return x\n",
        "list_num1 = ['a', 2, 5]\n",
        "list_num2 = [1, 1]\n",
        "list_num3 = [0, 0]\n",
        "\n",
        "assert my_function(list_num1, my_function(list_num2, list_num3)) == ['a', 2, 5, 1, 1, 0, 0]\n",
        "\n",
        "list_num1 = [1, 2]\n",
        "list_num2 = [3, 4]\n",
        "list_num3 = [0, 0]\n",
        "print(my_function(list_num1, my_function(list_num2, list_num3)))"
      ],
      "metadata": {
        "colab": {
          "base_uri": "https://localhost:8080/"
        },
        "id": "S8HEiLPCOGQ9",
        "outputId": "2e05d1e5-c8af-41d6-87b7-7095ed8727b9"
      },
      "execution_count": 61,
      "outputs": [
        {
          "output_type": "stream",
          "name": "stdout",
          "text": [
            "[1, 2, 3, 4, 0, 0]\n"
          ]
        }
      ]
    },
    {
      "cell_type": "code",
      "source": [
        "def find_min(n):\n",
        "    min = n[0]\n",
        "    for i in range(len(n)):\n",
        "        if n[i] < min:\n",
        "            min = n[i]\n",
        "    return min\n",
        "\n",
        "my_list = [1, 22, 93, -100]\n",
        "assert find_min(my_list) == -100\n",
        "\n",
        "my_list = [1, 2, 3, -1]\n",
        "print(find_min(my_list))"
      ],
      "metadata": {
        "colab": {
          "base_uri": "https://localhost:8080/"
        },
        "id": "KARVQFPOPtnU",
        "outputId": "ed438591-4e3d-4301-f5f5-e94447cbdf78"
      },
      "execution_count": 64,
      "outputs": [
        {
          "output_type": "stream",
          "name": "stdout",
          "text": [
            "-1\n"
          ]
        }
      ]
    },
    {
      "cell_type": "code",
      "source": [
        "def find_max(n):\n",
        "    max = n[0]\n",
        "    for i in range(len(n)):\n",
        "        if n[i] > max:\n",
        "            max = n[i]\n",
        "    return max\n",
        "\n",
        "my_list = [1001, 9, 100, 0]\n",
        "assert find_max(my_list) == 1001\n",
        "\n",
        "my_list = [1, 9, 9, 0]\n",
        "print(find_max(my_list))"
      ],
      "metadata": {
        "colab": {
          "base_uri": "https://localhost:8080/"
        },
        "id": "yIcIkwvZRcYp",
        "outputId": "29e59be7-e289-45a7-b976-19267881a4e6"
      },
      "execution_count": 65,
      "outputs": [
        {
          "output_type": "stream",
          "name": "stdout",
          "text": [
            "9\n"
          ]
        }
      ]
    },
    {
      "cell_type": "code",
      "source": [
        "def My_function(integers, number):\n",
        "    return True if number in integers else False\n",
        "\n",
        "my_list = [1, 3, 9, 4]\n",
        "assert My_function(my_list, -1) == False\n",
        "\n",
        "my_list = [1, 2, 3, 4]\n",
        "print(My_function(my_list, 2))\n",
        ""
      ],
      "metadata": {
        "colab": {
          "base_uri": "https://localhost:8080/"
        },
        "id": "hbf9ooPaR1Nb",
        "outputId": "daf9b525-1d12-4a01-8890-17138b037bc0"
      },
      "execution_count": 72,
      "outputs": [
        {
          "output_type": "stream",
          "name": "stdout",
          "text": [
            "True\n"
          ]
        }
      ]
    },
    {
      "cell_type": "code",
      "source": [
        "def my_function(list_nums = [0, 1, 2]):\n",
        "    var = 0\n",
        "    for i in list_nums:\n",
        "        var += i\n",
        "    return var / len(list_nums)\n",
        "\n",
        "my_list = [4, 6, 8]\n",
        "assert my_function(my_list) == 6\n",
        "print(my_function())"
      ],
      "metadata": {
        "colab": {
          "base_uri": "https://localhost:8080/"
        },
        "id": "Ncz704OWTyL2",
        "outputId": "1f256a21-266a-4f28-fbac-ed7099fb35f2"
      },
      "execution_count": 73,
      "outputs": [
        {
          "output_type": "stream",
          "name": "stdout",
          "text": [
            "1.0\n"
          ]
        }
      ]
    },
    {
      "cell_type": "code",
      "source": [
        "def my_function(data):\n",
        "    var = []\n",
        "    for i in data:\n",
        "        if i % 3 == 0:\n",
        "            var.append(i)\n",
        "    return var\n",
        "\n",
        "assert my_function([3, 9, 4, 5]) == [3, 9]\n",
        "print(my_function([1, 2, 3, 5, 6]))"
      ],
      "metadata": {
        "colab": {
          "base_uri": "https://localhost:8080/"
        },
        "id": "nxcj6nfDXveC",
        "outputId": "d8d2b91f-567a-42db-a46e-0f8caddc6453"
      },
      "execution_count": 79,
      "outputs": [
        {
          "output_type": "stream",
          "name": "stdout",
          "text": [
            "[3, 6]\n"
          ]
        }
      ]
    },
    {
      "cell_type": "code",
      "source": [
        "def my_function(y):\n",
        "    var = 1\n",
        "    while(y > 1):\n",
        "        var *= y\n",
        "        y -= 1\n",
        "    return var\n",
        "\n",
        "assert my_function(8) == 40320\n",
        "print(my_function(4))"
      ],
      "metadata": {
        "colab": {
          "base_uri": "https://localhost:8080/"
        },
        "id": "TOIBajs2fCSM",
        "outputId": "cc26ed6e-8692-457f-ec10-2cda70e9de52"
      },
      "execution_count": 80,
      "outputs": [
        {
          "output_type": "stream",
          "name": "stdout",
          "text": [
            "24\n"
          ]
        }
      ]
    },
    {
      "cell_type": "code",
      "source": [
        "def my_function(x):\n",
        "    x = x[::-1]\n",
        "    return x\n",
        "\n",
        "x = 'I can do it'\n",
        "assert my_function(x) == \"ti od nac I\"\n",
        "\n",
        "x = 'apricot'\n",
        "print(my_function(x))"
      ],
      "metadata": {
        "colab": {
          "base_uri": "https://localhost:8080/"
        },
        "id": "XHYmRdzrfjOg",
        "outputId": "8d6379b6-a202-45fc-f716-d282363f9eb4"
      },
      "execution_count": 84,
      "outputs": [
        {
          "output_type": "stream",
          "name": "stdout",
          "text": [
            "tocirpa\n"
          ]
        }
      ]
    },
    {
      "cell_type": "code",
      "source": [
        "def function_helper(x):\n",
        "    if x > 0:\n",
        "        return 'T'\n",
        "    else:\n",
        "        return 'N'\n",
        "\n",
        "def my_function(data):\n",
        "    res = []\n",
        "    for x in data:\n",
        "        res.append(function_helper(x))\n",
        "    return res\n",
        "\n",
        "data = [10, 0, -10, -1]\n",
        "assert my_function(data) == ['T', 'N', 'N', 'N']\n",
        "\n",
        "data = [2, 3, 5, -1]\n",
        "print(my_function(data))"
      ],
      "metadata": {
        "colab": {
          "base_uri": "https://localhost:8080/"
        },
        "id": "gnSbxQY59wCh",
        "outputId": "f18b4ad3-d15c-41bc-d217-d2e611369147"
      },
      "execution_count": 7,
      "outputs": [
        {
          "output_type": "stream",
          "name": "stdout",
          "text": [
            "['T', 'T', 'T', 'N']\n"
          ]
        }
      ]
    },
    {
      "cell_type": "code",
      "source": [
        "def function_helper(x, data):\n",
        "    for i in data:\n",
        "        if x == i:\n",
        "            return 0\n",
        "    return 1\n",
        "\n",
        "def my_function(data):\n",
        "    res = []\n",
        "    for i in data:\n",
        "        if function_helper(i, res):\n",
        "            res.append(i)\n",
        "    return res\n",
        "\n",
        "lst = [10, 10, 9, 7, 7]\n",
        "assert my_function(lst) == [10, 9, 7]\n",
        "\n",
        "lst = [9, 9, 8, 1, 1]\n",
        "print(my_function(lst))"
      ],
      "metadata": {
        "colab": {
          "base_uri": "https://localhost:8080/"
        },
        "id": "2kRH_Vdm94G4",
        "outputId": "461cf491-ad93-42eb-f5c4-cc59076e4bbd"
      },
      "execution_count": 9,
      "outputs": [
        {
          "output_type": "stream",
          "name": "stdout",
          "text": [
            "[9, 8, 1]\n"
          ]
        }
      ]
    }
  ]
}
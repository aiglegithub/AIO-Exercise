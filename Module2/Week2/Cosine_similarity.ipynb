{
  "nbformat": 4,
  "nbformat_minor": 0,
  "metadata": {
    "colab": {
      "provenance": [],
      "toc_visible": true
    },
    "kernelspec": {
      "name": "python3",
      "display_name": "Python 3"
    },
    "language_info": {
      "name": "python"
    }
  },
  "cells": [
    {
      "cell_type": "code",
      "execution_count": 1,
      "metadata": {
        "id": "wtSmNl9Nyqs8"
      },
      "outputs": [],
      "source": [
        "import numpy as np"
      ]
    },
    {
      "cell_type": "code",
      "source": [
        "# Compute vector length\n",
        "def compute_vector_length(vector):\n",
        "    vector = np.array(vector)\n",
        "    len_of_vector = np.sqrt(np.sum(np.square(vector)))\n",
        "    return len_of_vector"
      ],
      "metadata": {
        "id": "rR5iWo5SzGO9"
      },
      "execution_count": 2,
      "outputs": []
    },
    {
      "cell_type": "code",
      "source": [
        "# Compute dot product\n",
        "def compute_dot_product(vector1, vector2):\n",
        "    vector1 = np.array(vector1)\n",
        "    vector2 = np.array(vector2)\n",
        "    dot_product = np.sum(np.multiply(vector1, vector2))\n",
        "    return dot_product\n"
      ],
      "metadata": {
        "id": "oa1jpv4hzfw8"
      },
      "execution_count": 3,
      "outputs": []
    },
    {
      "cell_type": "code",
      "source": [
        "# Multiply a vector by a matrix\n",
        "def matrix_multi_vector(matrix, vector):\n",
        "    matrix = np.array(matrix)\n",
        "    vector = np.array(vector)\n",
        "    result = np.dot(matrix, vector)\n",
        "    return result"
      ],
      "metadata": {
        "id": "xhM1NSN5zlnU"
      },
      "execution_count": 8,
      "outputs": []
    },
    {
      "cell_type": "markdown",
      "source": [
        "# 1.5 Matrix inverse\n",
        "\n",
        "- Matrix A: $\\mathbf{A} = \\begin{bmatrix} a & b \\\\ c & d \\end{bmatrix}, \\mathbf{A} \\in \\mathbb{R}^{2\\times2}$\n",
        "\n",
        "- Determinant of A $\\in \\mathbb{R}^{2\\times2}$: $det(\\mathbf{A}) = ad - bc$\n",
        "\n",
        "- if $det(\\mathbf{A}) \\neq 0$ A is invertible\n",
        "\n",
        "- Inverse Matrix: $\\mathbf{A}^{-1} = \\frac{1}{det(\\mathbf{A})} \\begin{bmatrix} d & -b \\\\ -c & a \\end{bmatrix}$"
      ],
      "metadata": {
        "id": "i2LXWuxt9CZH"
      }
    },
    {
      "cell_type": "code",
      "source": [
        "# Matrix inverse\n",
        "def inverse_matrix(matrix):\n",
        "    matrix = np.array(matrix)\n",
        "    inverse = np.linalg.inv(matrix)\n",
        "    return inverse\n",
        "\n",
        "A = [[-2, 6], [8, -4]]\n",
        "inverse_matrix(A)"
      ],
      "metadata": {
        "colab": {
          "base_uri": "https://localhost:8080/"
        },
        "id": "nQFrRzeiz6ED",
        "outputId": "dd3324e4-c1ba-479f-ada7-1c911adf441f"
      },
      "execution_count": 6,
      "outputs": [
        {
          "output_type": "execute_result",
          "data": {
            "text/plain": [
              "array([[0.1 , 0.15],\n",
              "       [0.2 , 0.05]])"
            ]
          },
          "metadata": {},
          "execution_count": 6
        }
      ]
    },
    {
      "cell_type": "markdown",
      "source": [
        " # 2.1 Compute eigenvalues and eigenvectors\n",
        "\n",
        " - $\\mathbf{A} \\in \\mathbb{R}^{n \\times n}, \\mathbf{I}(\\text{identity matrix}) \\in \\mathbb{R}^{n \\times n}, \\mathbf{v} \\in \\mathbb{R}^n$\n",
        "\n",
        "- Eigenvalue ($\\lambda$): $det(\\mathbf{A} - \\lambda \\mathbf{I}) = 0$\n",
        "\n",
        "- Eigenvector ($\\mathbf{v}$): $\\mathbf{A}\\mathbf{v} = \\lambda \\mathbf{v} \\iff (\\mathbf{A} - \\lambda \\mathbf{I})\\mathbf{v} = \\mathbf{0}$\n",
        "\n",
        "- Normalize vector: $\\frac{\\mathbf{v}}{\\|\\mathbf{v}\\|}, v_i = \\frac{v_i}{\\sqrt{\\sum v_i^2}}$"
      ],
      "metadata": {
        "id": "zJqONbpP-3Jl"
      }
    },
    {
      "cell_type": "code",
      "source": [
        "# Compute eigenvalues and eigenvectors\n",
        "def compute_eigenvalues_eigenvectors(matrix):\n",
        "    matrix = np.array(matrix)\n",
        "    eigenvalues, eigenvectors = np.linalg.eig(matrix)\n",
        "    return eigenvalues, eigenvectors\n",
        "\n",
        "A = [[0.9, 0.2], [0.1, 0.8]]\n",
        "eigenvalues, eigenvectors = compute_eigenvalues_eigenvectors(A)\n",
        "print(\"Eigenvalues:\", eigenvalues)\n",
        "print(\"Eigenvectors:\", eigenvectors)"
      ],
      "metadata": {
        "colab": {
          "base_uri": "https://localhost:8080/"
        },
        "id": "16hfB1vQ-RkB",
        "outputId": "4caf9984-0f07-4083-ebb0-8c1e73bda302"
      },
      "execution_count": 5,
      "outputs": [
        {
          "output_type": "stream",
          "name": "stdout",
          "text": [
            "Eigenvalues: [1.  0.7]\n",
            "Eigenvectors: [[ 0.89442719 -0.70710678]\n",
            " [ 0.4472136   0.70710678]]\n"
          ]
        }
      ]
    },
    {
      "cell_type": "markdown",
      "source": [
        "# 3.1. Cosine Similarity\n",
        "\n",
        "- Data (vector x, y): $\\mathbf{x} = \\{x_1, ..., x_N\\}$ $\\mathbf{y} = \\{y_1, ..., y_N\\}$\n",
        "\n",
        "- Cosine Similarity: $cs(\\mathbf{x},\\mathbf{y}) = \\frac{\\mathbf{x} \\cdot \\mathbf{y}}{\\|\\mathbf{x}\\| \\|\\mathbf{y}\\|} = \\frac{\\sum_{i=1}^n x_i y_i}{\\sqrt{\\sum_{i=1}^n x_i^2} \\sqrt{\\sum_{i=1}^n y_i^2}}$"
      ],
      "metadata": {
        "id": "6jY8067EC-iv"
      }
    },
    {
      "cell_type": "code",
      "source": [
        "# Compute cosine similarity\n",
        "def compute_cosine(v1, v2):\n",
        "    v1 = np.array(v1)\n",
        "    v2 = np.array(v2)\n",
        "    cosine_sim = np.dot(v1, v2) / (np.linalg.norm(v1) * np.linalg.norm(v2))\n",
        "    return cosine_sim\n",
        "\n",
        "v1 = [1, 2, 3, 4]\n",
        "v2 = [1, 0, 3, 0]\n",
        "compute_cosine(v1, v2)"
      ],
      "metadata": {
        "colab": {
          "base_uri": "https://localhost:8080/"
        },
        "id": "RK7mHnUSDARZ",
        "outputId": "85256bb9-a6ca-4f54-e234-211209fce94b"
      },
      "execution_count": 9,
      "outputs": [
        {
          "output_type": "execute_result",
          "data": {
            "text/plain": [
              "0.5773502691896257"
            ]
          },
          "metadata": {},
          "execution_count": 9
        }
      ]
    },
    {
      "cell_type": "code",
      "source": [],
      "metadata": {
        "id": "5YwzDSplDurJ"
      },
      "execution_count": null,
      "outputs": []
    }
  ]
}
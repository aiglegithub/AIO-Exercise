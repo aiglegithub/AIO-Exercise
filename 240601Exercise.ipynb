{
 "cells": [
  {
   "cell_type": "code",
   "execution_count": 3,
   "metadata": {},
   "outputs": [],
   "source": [
    "# Import nessesary libraries\n",
    "import math\n"
   ]
  },
  {
   "cell_type": "code",
   "execution_count": 1,
   "metadata": {},
   "outputs": [
    {
     "name": "stdout",
     "output_type": "stream",
     "text": [
      "0.31\n"
     ]
    }
   ],
   "source": [
    "# 1) f1 score function\n",
    "def calc_f1_score (tp, fp, fn):\n",
    "    if not isinstance(tp, int) or not isinstance(fp, int) or not isinstance(fn, int):\n",
    "        raise TypeError(\"Input must be an integer\")\n",
    "    if tp <= 0 or fp <= 0 or fn <= 0:\n",
    "        raise ValueError(\"Input must be a positive integer\")\n",
    "    precision = tp / (tp + fp)\n",
    "    recall = tp / (tp + fn)\n",
    "    f1_score = 2 * (precision * recall) / (precision + recall)\n",
    "    return f1_score\n",
    "\n",
    "assert round(calc_f1_score(tp=2, fp=3, fn=5), 2) == 0.33\n",
    "print(round(calc_f1_score(tp =2, fp =4, fn =5), 2))"
   ]
  },
  {
   "cell_type": "code",
   "execution_count": 4,
   "metadata": {},
   "outputs": [
    {
     "name": "stdout",
     "output_type": "stream",
     "text": [
      "True\n",
      "False\n"
     ]
    }
   ],
   "source": [
    "# 2) is_number function\n",
    "def is_number(n):\n",
    "    if not isinstance(n, (int, float)):\n",
    "        return False\n",
    "    return math.isnan(n) == False and math.isinf(n) == False\n",
    "assert is_number(3) == 1.0\n",
    "assert is_number('-2a') == 0.0\n",
    "print(is_number(1))\n",
    "print(is_number('n'))"
   ]
  },
  {
   "cell_type": "code",
   "execution_count": 5,
   "metadata": {},
   "outputs": [
    {
     "name": "stdout",
     "output_type": "stream",
     "text": [
      "0.88\n"
     ]
    }
   ],
   "source": [
    "# 4) Sigmoid function\n",
    "def cal_sig(x):\n",
    "    return 1 / (1 + math.exp(-x))\n",
    "assert round(cal_sig(3), 2) == 0.95\n",
    "print(round(cal_sig(2), 2))"
   ]
  },
  {
   "cell_type": "code",
   "execution_count": 15,
   "metadata": {},
   "outputs": [
    {
     "name": "stdout",
     "output_type": "stream",
     "text": [
      "-0.01\n"
     ]
    }
   ],
   "source": [
    "# 5) Elu function\n",
    "alpha = 0.01\n",
    "def cal_elu(x, alpha):\n",
    "    if not isinstance(alpha, float):\n",
    "        raise TypeError(\"Input must be a number\")\n",
    "    if alpha <= 0:\n",
    "        raise ValueError(\"Input must be a positive number\")\n",
    "    if x >= 0:\n",
    "        return x\n",
    "    else:\n",
    "        return alpha * (math.exp(x) - 1)\n",
    "assert round(cal_elu(1, alpha), 2) == 1\n",
    "print(round(cal_elu(-1, alpha), 2))"
   ]
  },
  {
   "cell_type": "code",
   "execution_count": 16,
   "metadata": {},
   "outputs": [
    {
     "name": "stdout",
     "output_type": "stream",
     "text": [
      "0.95\n"
     ]
    }
   ],
   "source": [
    "# 6) Activation function\n",
    "def cal_activation_func(x, act_name):\n",
    "    if act_name == 'sigmoid':\n",
    "        return cal_sig(x)\n",
    "    elif act_name == 'elu':\n",
    "        return cal_elu(x, alpha)\n",
    "    elif act_name == 'relu':\n",
    "        return max(0, x)\n",
    "    else:\n",
    "        raise ValueError(\"Invalid activation function\")\n",
    "assert cal_activation_func(x=1, act_name='relu') == 1\n",
    "print(round(cal_activation_func(x=3, act_name='sigmoid'), 2))"
   ]
  },
  {
   "cell_type": "code",
   "execution_count": 17,
   "metadata": {},
   "outputs": [
    {
     "name": "stdout",
     "output_type": "stream",
     "text": [
      "7\n"
     ]
    }
   ],
   "source": [
    "# 7) Absolute error function\n",
    "def cal_ae(y, y_hat):\n",
    "    return abs(y - y_hat)\n",
    "y = 1\n",
    "y_hat = 6\n",
    "assert cal_ae(y, y_hat) == 5\n",
    "y = 2\n",
    "y_hat = 9\n",
    "print(cal_ae(y, y_hat))\n"
   ]
  },
  {
   "cell_type": "code",
   "execution_count": 18,
   "metadata": {},
   "outputs": [
    {
     "name": "stdout",
     "output_type": "stream",
     "text": [
      "1\n"
     ]
    }
   ],
   "source": [
    "# 8) Squared error function\n",
    "def cal_se(y, y_hat):\n",
    "    return (y - y_hat) ** 2\n",
    "y = 4\n",
    "y_hat = 2\n",
    "assert cal_se(y, y_hat) == 4\n",
    "print(cal_se(2, 1))"
   ]
  },
  {
   "cell_type": "code",
   "execution_count": 19,
   "metadata": {},
   "outputs": [
    {
     "name": "stdout",
     "output_type": "stream",
     "text": [
      "-1.0\n"
     ]
    }
   ],
   "source": [
    "# 9) Cos estimation function\n",
    "def approx_cos(x, n):\n",
    "    cos = 0\n",
    "    for i in range(n):\n",
    "        cos += ((-1) ** i) * (x ** (2 * i)) / math.factorial(2 * i)\n",
    "    return cos\n",
    "assert round(approx_cos(x=1, n=10), 2) == 0.54\n",
    "print(round(approx_cos(x=3.14, n=10), 2))\n"
   ]
  },
  {
   "cell_type": "code",
   "execution_count": 20,
   "metadata": {},
   "outputs": [
    {
     "name": "stdout",
     "output_type": "stream",
     "text": [
      "0.0016\n"
     ]
    }
   ],
   "source": [
    "# 10) Sin estimation function\n",
    "def approx_sin(x, n):\n",
    "    sin = 0\n",
    "    for i in range(n):\n",
    "        sin += ((-1) ** i) * (x ** (2 * i + 1)) / math.factorial(2 * i + 1)\n",
    "    return sin\n",
    "assert round(approx_sin(x=1, n=10), 4) == 0.8415\n",
    "print(round(approx_sin(x=3.14, n=10), 4))"
   ]
  },
  {
   "cell_type": "code",
   "execution_count": 21,
   "metadata": {},
   "outputs": [
    {
     "name": "stdout",
     "output_type": "stream",
     "text": [
      "11.53\n"
     ]
    }
   ],
   "source": [
    "# 11) Sinh estimation function\n",
    "def approx_sinh(x, n):\n",
    "    sinh = 0\n",
    "    for i in range(n):\n",
    "        sinh += (x ** (2 * i + 1)) / math.factorial(2 * i + 1)\n",
    "    return sinh\n",
    "assert round(approx_sinh(x=1, n=10), 2) == 1.18\n",
    "print(round(approx_sinh(x=3.14, n=10), 2))"
   ]
  },
  {
   "cell_type": "code",
   "execution_count": 22,
   "metadata": {},
   "outputs": [
    {
     "name": "stdout",
     "output_type": "stream",
     "text": [
      "11.57\n"
     ]
    }
   ],
   "source": [
    "# 12) Cosh estimation function\n",
    "def approx_cosh(x, n):\n",
    "    cosh = 0\n",
    "    for i in range(n):\n",
    "        cosh += (x ** (2 * i)) / math.factorial(2 * i)\n",
    "    return cosh\n",
    "assert round(approx_cosh(x=1, n=10), 2) == 1.54\n",
    "print(round(approx_cosh(x=3.14, n=10), 2))"
   ]
  }
 ],
 "metadata": {
  "kernelspec": {
   "display_name": "Python 3",
   "language": "python",
   "name": "python3"
  },
  "language_info": {
   "codemirror_mode": {
    "name": "ipython",
    "version": 3
   },
   "file_extension": ".py",
   "mimetype": "text/x-python",
   "name": "python",
   "nbconvert_exporter": "python",
   "pygments_lexer": "ipython3",
   "version": "3.11.1"
  }
 },
 "nbformat": 4,
 "nbformat_minor": 2
}
